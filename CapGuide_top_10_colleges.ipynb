{
 "cells": [
  {
   "cell_type": "code",
   "execution_count": 1,
   "metadata": {},
   "outputs": [],
   "source": [
    "import xlrd\n",
    "import re"
   ]
  },
  {
   "cell_type": "code",
   "execution_count": 2,
   "metadata": {},
   "outputs": [],
   "source": [
    "loc = r\"C:\\Users\\Aaina\\Downloads\\Capguide_code\\college_cutoffs.xlsx\""
   ]
  },
  {
   "cell_type": "code",
   "execution_count": 3,
   "metadata": {},
   "outputs": [],
   "source": [
    "wb = xlrd.open_workbook(loc)\n",
    "sheet = wb.sheet_by_index(0)"
   ]
  },
  {
   "cell_type": "code",
   "execution_count": 4,
   "metadata": {},
   "outputs": [],
   "source": [
    "patterns = [ 'Home University : Savitribai Phule Pune University' ]"
   ]
  },
  {
   "cell_type": "code",
   "execution_count": 5,
   "metadata": {},
   "outputs": [],
   "source": [
    "ans_list = []\n",
    "n = sheet.nrows - 1"
   ]
  },
  {
   "cell_type": "code",
   "execution_count": 6,
   "metadata": {},
   "outputs": [],
   "source": [
    "for i in range(0,n):\n",
    "    text = sheet.cell_value(i+1, 0)\n",
    "    text = str(text)\n",
    "    for pattern in patterns:\n",
    "        if re.search(pattern, text):\n",
    "            ans_list.append(i+1)\n",
    "        else:\n",
    "            pass"
   ]
  },
  {
   "cell_type": "code",
   "execution_count": 8,
   "metadata": {},
   "outputs": [
    {
     "name": "stdout",
     "output_type": "stream",
     "text": [
      "[25696, 25739, 25773, 25809, 25842, 25882, 25926, 25969, 26011, 26046, 26082, 26118, 26164, 26192, 26227, 26273, 26301, 26334, 26389, 26431, 26466, 26508, 26549, 26591, 26645, 26692, 26735, 26770, 26811, 26858, 26893, 26940, 26980, 27020, 27062, 27095, 27122, 27152, 27173, 27194, 27229, 27275, 27308, 27343, 27372, 27412, 27458, 27500, 27538, 27572, 27617, 27662, 27695, 27872, 27884, 27916, 27928, 27951, 27996, 28029, 28074, 28109, 28153, 28186, 28219, 28264, 28309, 28344, 28362, 28393, 29119, 29161, 29202, 29245, 29261, 29292, 29309, 29337, 29372, 29408, 29441, 29469, 29502, 29547, 29581, 29604, 29632, 29685, 29718, 29754, 29783, 29826, 29862, 29883, 29899, 29930, 29967, 30002, 30036, 30076, 30098, 30125, 30265, 30305, 30352, 30390, 30428, 30476, 30514, 30536, 30570, 30598, 30643, 30686, 30818, 30858, 30893, 30927, 30965, 30991, 31034, 31056, 31077, 31225, 31259, 31288, 31309, 31329, 31346, 31381, 31391, 31426, 31472, 31493, 31523, 31544, 31565, 31582, 31614, 31660, 31694, 31734, 31775, 31811, 32038, 32076, 32118, 32151, 32197, 32301, 32349, 32709, 32756, 32802, 32849, 32899, 32927, 32956, 32989, 33023, 33039, 33067, 33105, 33134, 33172, 33210, 33258, 33290, 33326, 33363, 33409, 33453, 33482, 33499, 33531, 33576, 33601, 33629, 33671, 33710, 33745, 33798, 33848, 33871, 33891, 33923, 33967, 33995, 34015, 34036, 34074, 34097, 34135, 34173, 34212, 34245, 34288, 34335, 34371, 34419, 34447, 34480, 34535, 34570, 34598, 34641, 34675, 34708, 34753, 34786, 34824, 34868, 34913, 34955, 34984, 35026, 35059, 35096, 35126, 35160, 35200, 35233, 35269, 35297, 35344, 35386, 35429, 35466, 35504, 35522, 35550, 35584, 35612, 35655, 35705, 35744, 35777, 35820, 35848, 35894, 35922, 35962, 36007, 36037, 36070, 36090, 36111, 36155, 36188, 36215, 36236, 36253, 36281, 36314, 36352, 36386, 36434, 36465, 36497, 36536, 36569, 36599, 36634, 36669, 36690, 36711, 36748, 36781, 36823, 36861, 36895, 36911, 36945, 36977, 37012, 37050, 37068, 37096, 37133, 37178, 37220, 37261, 39212, 39257, 39290, 39323, 39359, 39400, 39435, 39473, 39511, 39548, 39594, 39631, 39670, 39718, 39760, 39771, 39808, 39826, 39848, 39876, 39914, 39947, 39981, 40032, 40065, 40112, 40141, 40181, 40222, 40251, 40292, 40336, 40571, 40604, 40646, 40679, 40717, 40756, 40793, 40840, 40889, 40923, 40951, 40984, 41037, 41071, 41089, 41117, 41162, 41205, 41240, 41375, 41417, 41455, 41484, 41526, 41568, 41607, 41636, 41674, 41867, 41915, 41926, 41943, 42084, 42123, 42161, 42201, 42255, 42294, 42323, 42372, 42639, 42676, 42722, 42762, 42802, 42850, 42990, 43024, 43076, 43104, 43156, 43189, 43222, 43265, 43301, 43796, 43840, 43887, 43922, 43958, 44000, 44028, 44070, 44086, 44227, 44255, 44283, 44311, 44339, 44373, 44412, 44447, 44481, 44516, 44549, 44585, 44609, 44640, 45191, 45201, 45246, 45276, 45325, 45358, 45393, 45432, 45467, 45509, 45525, 45553, 45571, 45592, 45626, 45651, 45678, 45698, 45734, 45771, 45802, 45822, 45849, 45881, 45903, 45924, 45945, 45982, 46017, 46041, 46522, 46561, 46606, 46642, 46687, 46733, 46761, 46796, 46834, 46872, 46906, 46939, 46981, 47019, 47054, 47103, 47453, 47494, 47511, 47542, 47557, 47845, 47885, 47919, 47947, 47988, 48016, 48051, 48085, 48128, 48141, 48176, 48212, 48247, 48275, 48311, 48358, 48393, 48428, 48452, 48864, 48897, 48936, 48963, 49011, 49039, 49073, 49112, 49148, 49161, 49189, 49206, 49241, 49259, 49293, 49341, 49379, 49415, 49631, 49672, 49700, 49733, 49767, 49808, 50058, 50112, 50141, 50195, 50237, 50270, 50316, 50354, 50389, 50422, 50456]\n"
     ]
    }
   ],
   "source": [
    "print(ans_list)"
   ]
  },
  {
   "cell_type": "code",
   "execution_count": 7,
   "metadata": {},
   "outputs": [],
   "source": [
    "branch = ['Civil Engineering']\n",
    "branch_list = []"
   ]
  },
  {
   "cell_type": "code",
   "execution_count": 9,
   "metadata": {},
   "outputs": [],
   "source": [
    "for i in ans_list:\n",
    "    text = sheet.cell_value(i-2, 0)\n",
    "    text = str(text)\n",
    "    for pattern in branch:\n",
    "        if re.search(pattern, text):\n",
    "            branch_list.append(i-2)\n",
    "        else:\n",
    "            pass"
   ]
  },
  {
   "cell_type": "code",
   "execution_count": 10,
   "metadata": {},
   "outputs": [
    {
     "name": "stdout",
     "output_type": "stream",
     "text": [
      "[25694, 25924, 26162, 26190, 26643, 27093, 27192, 27498, 27870, 27949, 28151, 29117, 29243, 29335, 29545, 29630, 29881, 30000, 30426, 30596, 30816, 30963, 31223, 31327, 31424, 31563, 31692, 32036, 32299, 32707, 32925, 33407, 33480, 33846, 33921, 34034, 34333, 34369, 34568, 34822, 35057, 35094, 35703, 35846, 36109, 36495, 36709, 36975, 39357, 39398, 40063, 40569, 41373, 41865, 42082, 42637, 43794, 43998, 44445, 44583, 45189, 45274, 45590, 45696, 45847, 45943, 46520, 46685, 46937, 47492, 47917, 48014, 48862, 49037, 49187, 49291, 49629, 50235, 50387]\n"
     ]
    }
   ],
   "source": [
    "print(branch_list)"
   ]
  },
  {
   "cell_type": "code",
   "execution_count": 11,
   "metadata": {},
   "outputs": [],
   "source": [
    "Gopens_rank=[]\n",
    "for i in branch_list:\n",
    "    text = sheet.cell_value(i+6, 1)\n",
    "    Gopens_rank.append(text)"
   ]
  },
  {
   "cell_type": "code",
   "execution_count": 13,
   "metadata": {},
   "outputs": [],
   "source": [
    "college_name=[]\n",
    "for i in branch_list:\n",
    "    text = sheet.cell_value(i-1, 0)\n",
    "    college_name.append(text)"
   ]
  },
  {
   "cell_type": "code",
   "execution_count": 14,
   "metadata": {},
   "outputs": [
    {
     "name": "stdout",
     "output_type": "stream",
     "text": [
      "[\"5108 - Nashik District Maratha Vidya Prasarak Samaj's Karmaveer Adv.Babaurao Ganpatrao Thakare College of Engineering, Nashik\", '5109 - Sandip Foundation, Sandip Institute of Technology and Research Centre, Mahiravani, Nashik', '5121 - K. K. Wagh Institute of Engineering Education and Research, Nashik', '5121 - K. K. Wagh Institute of Engineering Education and Research, Nashik', \"5124 - Jagadamba Education Soc. Nashik's S.N.D. College of Engineering & Reserch, Babulgaon\", '5130 - Brahma Valley College of Engineering & Research, Trimbakeshwar, Nashik', '5139 - Pravara Rural College of Engineering, Loni, Pravaranagar, Ahmednagar.', \"5151 - MET Bhujbal Knowledge City MET League's Engineering College, Adgaon, Nashik.\", \"5160 - Sanjivani Rural Education Society's Sanjivani College of Engineering, Kopargaon\", '5161 - Dr. Vithalrao Vikhe Patil College of Engineering, Ahmednagar', \"5162 - Amrutvahini Sheti & Shikshan Vikas Sanstha's Amrutvahini College of Engineering, Sangamner\", \"5173 - SNJB's Late Sau. Kantabai Bhavarlalji Jain College of Engineering,  (Jain Gurukul), Neminagar,Chandwad,(Nashik)\", '5176 - G. H. Raisoni College of Engineering and Management, Ahmednagar', '5177 - Matoshri College of Engineering and Research Centre, Eklahare, Nashik', \"5179 - Vishwabharati Academy's College of Engineering, Ahmednagar\", \"5181 - Gokhale Education Society's, R.H. Sapat College of Engineering, Management Studies and Research, Nashik\", \"5184 - Amruta Vaishnavi Education & Welfare Trust's Shatabdi Institute of Engineering & Research, Agaskhind Tal. Sinnar\", '5303 - Hon. Shri. Babanrao Pachpute Vichardhara Trust, Group of Institutions (Integrated Campus)-Parikrama, Kashti Shrigondha,', \"5331 - Sandip Foundation's, Sandip Institute of Engineering & Management, Nashik\", \"5380 - Adsul's Technical Campus, Chas Dist. Ahmednagar\", '5382 - Ahmednagar Jilha Maratha Vidya Prasarak Samajache, Shri. Chhatrapati Shivaji Maharaj College of Engineering, Nepti', \"5390 - K.V.N. Naik S. P. Sansth's Loknete Gopinathji Munde Institute of Engineering Education & Research, Nashik.\", '5399 - Sanghavi College of Engineering, Varvandi, Nashik.', \"5401 - Jawahar Education Society's Institute of Technology, Management & Research, Nashik.\", '5408 - Vidya Niketan College of Engineering, Bota Sangamner', '5411 - Maulana Mukhtar Ahmad Nadvi Technical Campus, Malegaon.', '5418 - Guru Gobind Singh College of Engineering & Research Centre, Nashik.', '6004 - Government College of Engineering & Research, Avasari Khurd', '6006 - College of Engineering, Pune', \"6122 - TSSMS's Pd. Vasantdada Patil Institute of Technology, Bavdhan, Pune\", '6138 - Genba Sopanrao Moze Trust Parvatibai Genba Moze College of Engineering,Wagholi, Pune', \"6141 - Jaywant Shikshan Prasarak Mandal's,Rajarshi Shahu College of Engineering, Tathawade, Pune\", '6144 - Genba Sopanrao Moze College of Engineering, Baner-Balewadi, Pune', '6146 - MIT Academy of Engineering,Alandi, Pune', '6149 - Choudhary Attar Singh Yadav Memorial Trust,Siddhant College of Engineering, Maval', '6155 - G.H.Raisoni College of Engineering & Management, Wagholi, Pune', \"6160 - JSPM's Imperial College of Engineering and Research, Wagholi, Pune\", \"6160 - JSPM's Imperial College of Engineering and Research, Wagholi, Pune\", '6175 - Pimpri Chinchwad Education Trust, Pimpri Chinchwad College of Engineering, Pune', '6176 - G. H.Raisoni Institute of Engineering and Technology, Wagholi, Pune', '6177 - Sinhgad College of Engineering, Vadgaon (BK), Pune', '6177 - Sinhgad College of Engineering, Vadgaon (BK), Pune', '6179 - Indira College of Engineering & Management, Pune', '6182 - Sinhgad Technical Education Society, Sinhgad Institute of Technology and Science, Narhe (Ambegaon)', \"6184 - K. J.'s Educational Institut Trinity College of Engineering and Research, Pisoli, Haveli\", '6187 - Sinhgad Academy of Engineering, Kondhwa (BK)  Kondhwa-Saswad Road, Pune', \"6203 - Marathwada Mitra Mandal's Institute of Technology, Lohgaon, Pune\", '6207 - Dr. D. Y. Patil Vidya Pratishthan Society Dr .D. Y. Patil Institute of Engineering & Technology, Pimpri,Pune', \"6272 - Dr. D. Y. Patil Pratishthan's D.Y.Patil College of Engineering Akurdi, Pune\", \"6272 - Dr. D. Y. Patil Pratishthan's D.Y.Patil College of Engineering Akurdi, Pune\", \"6275 - Shivnagar Vidya Prasarak Mandal's College of Engineering, Malegaon-Baramati\", \"6278 - All India Shri Shivaji Memorial Society's College of Engineering, Pune\", \"6284 - Vidya Pratishthan's Kamalnayan Bajaj Institute of Engineering & Technology, Baramati Dist.Pune\", \"6289 - B.R.A.C.T's Vishwakarma Institute of Information Technology, Kondhwa (Bk.), Pune\", \"6298 - Zeal Education Society's Zeal College of Engineering & Reserch, Narhe, Pune\", '6307 - Dhole Patil Education Society, Dhole Patil College of Engineering, Wagholi, Tal. Haveli', '6319 - Shahajirao Patil Vikas Pratishthan, S.B.Patil College of Engineering, Vangali, Tal. Indapur', \"6320 - K.J.'s Educational Institute's K.J.College of Engineering & Management Research, Pisoli\", \"6324 - Rajgad Dnyanpeeth's Technical Campus,Dhangwadi, Bhor\", \"6325 - Alard  Charitable Trust's Alard College of Engineering and Management, Pune\", '6609 - Jaihind College Of Engineering,Kuran', '6620 - D. Y. Patil Institute of Engineering and Technology, Ambi', '6628 - Dattakala Group Of Institutions, Swami - Chincholi Tal. Daund Dist. Pune', \"6632 - Navsahyadri Education Society's Group of Institutions\", \"6634 - KJEI's Trinity Academy of Engineering, Yewalewadi, Pune\", '6635 - Samarth Group of Institutions, Bangarwadi, Post Belhe Tal. Junnar Dist. Pune', \"6649 - TSSM's Bhivarabai Sawant College of Engineering and Research, Narhe, Pune\", '6732 - Dr. D. Y. Patil School OF Engineering, Lohegaon, Pune', '6755 - JSPM Narhe Technical Campus, Pune.', '6759 - Shree Ramchandra College of Engineering, Lonikand,Pune', '6768 - P.K. Technical Campus, Pune.', '6769 - Rasiklal M. Dhariwal Sinhgad Technical Institutes Campus, Warje, Pune.', \"6787 - Dr. D. Y. Patil Educational Academy's, D.Y.Patil School of Engineering Academy, Ambi\", '6794 - Anantrao Pawar College of Engineering & Research, Pune', '6795 - Shri.Someshwar Shikshan Prasarak Mandals, Someshwar Engineering College, Someshwar Nagar', \"6796 - Bharati Vidyapeeth's College of Engineering,Lavale, Pune\", '6802 - Dr. D.Y.Patil Institute of Engineering, Management & Reseach, Akurdi, Pune', \"6822 - Pimpri Chinchwad Education Trust's Pimpri Chinchwad College Of Engineering And Research, Ravet\", '6834 - Dr.D.Y.Patil College Of Engineering & Innovation,Talegaon']\n"
     ]
    }
   ],
   "source": [
    "print(college_name)"
   ]
  },
  {
   "cell_type": "code",
   "execution_count": 15,
   "metadata": {},
   "outputs": [],
   "source": [
    "top_10 = []\n",
    "top_10_rank = []\n",
    "for i in range (10):\n",
    "    min = Gopens_rank[0]\n",
    "    min=int(min)\n",
    "    index=0\n",
    "    for j in range(len(Gopens_rank)):\n",
    "        if(Gopens_rank[j]==''):\n",
    "            pass\n",
    "        elif(int(Gopens_rank[j])<min):\n",
    "            min = Gopens_rank[j]\n",
    "            index=j\n",
    "    top_10.append(college_name[index])\n",
    "    top_10_rank.append(Gopens_rank[index])\n",
    "    Gopens_rank.pop(index)\n",
    "    college_name.pop(index)"
   ]
  },
  {
   "cell_type": "code",
   "execution_count": 16,
   "metadata": {},
   "outputs": [
    {
     "name": "stdout",
     "output_type": "stream",
     "text": [
      "[(1255.0, '6006 - College of Engineering, Pune'), (12456.0, '6004 - Government College of Engineering & Research, Avasari Khurd'), (12971.0, '6175 - Pimpri Chinchwad Education Trust, Pimpri Chinchwad College of Engineering, Pune'), (14178.0, \"6289 - B.R.A.C.T's Vishwakarma Institute of Information Technology, Kondhwa (Bk.), Pune\"), (16173.0, '6146 - MIT Academy of Engineering,Alandi, Pune'), (22937.0, '5121 - K. K. Wagh Institute of Engineering Education and Research, Nashik'), (28635.0, \"6278 - All India Shri Shivaji Memorial Society's College of Engineering, Pune\"), (32066.0, \"5184 - Amruta Vaishnavi Education & Welfare Trust's Shatabdi Institute of Engineering & Research, Agaskhind Tal. Sinnar\"), (32662.0, '5121 - K. K. Wagh Institute of Engineering Education and Research, Nashik'), (32805.0, '6177 - Sinhgad College of Engineering, Vadgaon (BK), Pune')]\n"
     ]
    }
   ],
   "source": [
    "final_list=[]\n",
    "final_list=list(zip(top_10_rank , top_10))\n",
    "print(final_list)"
   ]
  },
  {
   "cell_type": "markdown",
   "metadata": {},
   "source": [
    "#### PRINTING TOP 10 COLLEGES"
   ]
  },
  {
   "cell_type": "code",
   "execution_count": 17,
   "metadata": {},
   "outputs": [],
   "source": [
    "import pandas as pd"
   ]
  },
  {
   "cell_type": "code",
   "execution_count": 24,
   "metadata": {},
   "outputs": [
    {
     "data": {
      "text/html": [
       "<div>\n",
       "<style scoped>\n",
       "    .dataframe tbody tr th:only-of-type {\n",
       "        vertical-align: middle;\n",
       "    }\n",
       "\n",
       "    .dataframe tbody tr th {\n",
       "        vertical-align: top;\n",
       "    }\n",
       "\n",
       "    .dataframe thead th {\n",
       "        text-align: right;\n",
       "    }\n",
       "</style>\n",
       "<table border=\"1\" class=\"dataframe\">\n",
       "  <thead>\n",
       "    <tr style=\"text-align: right;\">\n",
       "      <th></th>\n",
       "      <th>Cutoff rank</th>\n",
       "      <th>College Name</th>\n",
       "    </tr>\n",
       "  </thead>\n",
       "  <tbody>\n",
       "    <tr>\n",
       "      <th>1</th>\n",
       "      <td>1255</td>\n",
       "      <td>6006 - College of Engineering, Pune</td>\n",
       "    </tr>\n",
       "    <tr>\n",
       "      <th>2</th>\n",
       "      <td>12456</td>\n",
       "      <td>6004 - Government College of Engineering &amp; Res...</td>\n",
       "    </tr>\n",
       "    <tr>\n",
       "      <th>3</th>\n",
       "      <td>12971</td>\n",
       "      <td>6175 - Pimpri Chinchwad Education Trust, Pimpr...</td>\n",
       "    </tr>\n",
       "    <tr>\n",
       "      <th>4</th>\n",
       "      <td>14178</td>\n",
       "      <td>6289 - B.R.A.C.T's Vishwakarma Institute of In...</td>\n",
       "    </tr>\n",
       "    <tr>\n",
       "      <th>5</th>\n",
       "      <td>16173</td>\n",
       "      <td>6146 - MIT Academy of Engineering,Alandi, Pune</td>\n",
       "    </tr>\n",
       "    <tr>\n",
       "      <th>6</th>\n",
       "      <td>22937</td>\n",
       "      <td>5121 - K. K. Wagh Institute of Engineering Edu...</td>\n",
       "    </tr>\n",
       "    <tr>\n",
       "      <th>7</th>\n",
       "      <td>28635</td>\n",
       "      <td>6278 - All India Shri Shivaji Memorial Society...</td>\n",
       "    </tr>\n",
       "    <tr>\n",
       "      <th>8</th>\n",
       "      <td>32066</td>\n",
       "      <td>5184 - Amruta Vaishnavi Education &amp; Welfare Tr...</td>\n",
       "    </tr>\n",
       "    <tr>\n",
       "      <th>9</th>\n",
       "      <td>32662</td>\n",
       "      <td>5121 - K. K. Wagh Institute of Engineering Edu...</td>\n",
       "    </tr>\n",
       "    <tr>\n",
       "      <th>10</th>\n",
       "      <td>32805</td>\n",
       "      <td>6177 - Sinhgad College of Engineering, Vadgaon...</td>\n",
       "    </tr>\n",
       "  </tbody>\n",
       "</table>\n",
       "</div>"
      ],
      "text/plain": [
       "    Cutoff rank                                       College Name\n",
       "1          1255                6006 - College of Engineering, Pune\n",
       "2         12456  6004 - Government College of Engineering & Res...\n",
       "3         12971  6175 - Pimpri Chinchwad Education Trust, Pimpr...\n",
       "4         14178  6289 - B.R.A.C.T's Vishwakarma Institute of In...\n",
       "5         16173     6146 - MIT Academy of Engineering,Alandi, Pune\n",
       "6         22937  5121 - K. K. Wagh Institute of Engineering Edu...\n",
       "7         28635  6278 - All India Shri Shivaji Memorial Society...\n",
       "8         32066  5184 - Amruta Vaishnavi Education & Welfare Tr...\n",
       "9         32662  5121 - K. K. Wagh Institute of Engineering Edu...\n",
       "10        32805  6177 - Sinhgad College of Engineering, Vadgaon..."
      ]
     },
     "execution_count": 24,
     "metadata": {},
     "output_type": "execute_result"
    }
   ],
   "source": [
    "df_final = pd.DataFrame(final_list,columns=['Cutoff rank','College Name'],dtype=int)\n",
    "df_final.index = df_final.index + 1\n",
    "df_final"
   ]
  }
 ],
 "metadata": {
  "kernelspec": {
   "display_name": "Python 3",
   "language": "python",
   "name": "python3"
  },
  "language_info": {
   "codemirror_mode": {
    "name": "ipython",
    "version": 3
   },
   "file_extension": ".py",
   "mimetype": "text/x-python",
   "name": "python",
   "nbconvert_exporter": "python",
   "pygments_lexer": "ipython3",
   "version": "3.7.6"
  }
 },
 "nbformat": 4,
 "nbformat_minor": 4
}
